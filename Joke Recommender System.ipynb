{
 "cells": [
  {
   "cell_type": "markdown",
   "id": "031da6b7",
   "metadata": {},
   "source": [
    "__Jokes Recommender System__\n",
    "\n",
    "I intend to build a recommender system based on different methods and compare their results. I will base the recommender system on the Jester Dataset of joke ratings. I will test different algorithms, tuning hyperparameters while performing a simple train-test-validation-split. With these algorithms, I will determine the funniest and unfunniest jokes, as well as the persons with the greatest and the smallest senses of humor. "
   ]
  },
  {
   "cell_type": "markdown",
   "id": "4cd4b83f",
   "metadata": {},
   "source": [
    "__Dataset__\n",
    "\n",
    "I used the \"Jester Datasets for Recommender Systems and Collaborative Filtering Research\" (Ken Goldberg, AUTOLab, UC Berkeley) Dataset 1, which contains 4.1 million anonymous ratings of jokes by users of the Jester Joke Recommender System Values from (-10.00 to +10.00) of 100 jokes from 73,421 users: collected between April 1999 - May 2003. I ended up using ratings from only the first ca. 1,000 of the possible 73,421 users. \n",
    "\n",
    "The first column (0) shows the number of jokes that were rated by users out of a possible 100 jokes. Columns 1-100 each reference a single joke. Users rated joke on a sclae from -10 to +10 with \"99\" indicating that the joke had not been rated by the corresponding user. "
   ]
  },
  {
   "cell_type": "code",
   "execution_count": 6,
   "id": "a75045a7",
   "metadata": {
    "scrolled": true
   },
   "outputs": [
    {
     "data": {
      "text/html": [
       "<div>\n",
       "<style scoped>\n",
       "    .dataframe tbody tr th:only-of-type {\n",
       "        vertical-align: middle;\n",
       "    }\n",
       "\n",
       "    .dataframe tbody tr th {\n",
       "        vertical-align: top;\n",
       "    }\n",
       "\n",
       "    .dataframe thead th {\n",
       "        text-align: right;\n",
       "    }\n",
       "</style>\n",
       "<table border=\"1\" class=\"dataframe\">\n",
       "  <thead>\n",
       "    <tr style=\"text-align: right;\">\n",
       "      <th></th>\n",
       "      <th>0</th>\n",
       "      <th>1</th>\n",
       "      <th>2</th>\n",
       "      <th>3</th>\n",
       "      <th>4</th>\n",
       "      <th>5</th>\n",
       "      <th>6</th>\n",
       "      <th>7</th>\n",
       "      <th>8</th>\n",
       "      <th>9</th>\n",
       "      <th>...</th>\n",
       "      <th>91</th>\n",
       "      <th>92</th>\n",
       "      <th>93</th>\n",
       "      <th>94</th>\n",
       "      <th>95</th>\n",
       "      <th>96</th>\n",
       "      <th>97</th>\n",
       "      <th>98</th>\n",
       "      <th>99</th>\n",
       "      <th>100</th>\n",
       "    </tr>\n",
       "  </thead>\n",
       "  <tbody>\n",
       "    <tr>\n",
       "      <th>0</th>\n",
       "      <td>74</td>\n",
       "      <td>-7.82</td>\n",
       "      <td>8.79</td>\n",
       "      <td>-9.66</td>\n",
       "      <td>-8.16</td>\n",
       "      <td>-7.52</td>\n",
       "      <td>-8.50</td>\n",
       "      <td>-9.85</td>\n",
       "      <td>4.17</td>\n",
       "      <td>-8.98</td>\n",
       "      <td>...</td>\n",
       "      <td>2.82</td>\n",
       "      <td>99.00</td>\n",
       "      <td>99.00</td>\n",
       "      <td>99.00</td>\n",
       "      <td>99.00</td>\n",
       "      <td>99.00</td>\n",
       "      <td>-5.63</td>\n",
       "      <td>99.00</td>\n",
       "      <td>99.00</td>\n",
       "      <td>99.00</td>\n",
       "    </tr>\n",
       "    <tr>\n",
       "      <th>1</th>\n",
       "      <td>100</td>\n",
       "      <td>4.08</td>\n",
       "      <td>-0.29</td>\n",
       "      <td>6.36</td>\n",
       "      <td>4.37</td>\n",
       "      <td>-2.38</td>\n",
       "      <td>-9.66</td>\n",
       "      <td>-0.73</td>\n",
       "      <td>-5.34</td>\n",
       "      <td>8.88</td>\n",
       "      <td>...</td>\n",
       "      <td>2.82</td>\n",
       "      <td>-4.95</td>\n",
       "      <td>-0.29</td>\n",
       "      <td>7.86</td>\n",
       "      <td>-0.19</td>\n",
       "      <td>-2.14</td>\n",
       "      <td>3.06</td>\n",
       "      <td>0.34</td>\n",
       "      <td>-4.32</td>\n",
       "      <td>1.07</td>\n",
       "    </tr>\n",
       "    <tr>\n",
       "      <th>2</th>\n",
       "      <td>49</td>\n",
       "      <td>99.00</td>\n",
       "      <td>99.00</td>\n",
       "      <td>99.00</td>\n",
       "      <td>99.00</td>\n",
       "      <td>9.03</td>\n",
       "      <td>9.27</td>\n",
       "      <td>9.03</td>\n",
       "      <td>9.27</td>\n",
       "      <td>99.00</td>\n",
       "      <td>...</td>\n",
       "      <td>99.00</td>\n",
       "      <td>99.00</td>\n",
       "      <td>99.00</td>\n",
       "      <td>9.08</td>\n",
       "      <td>99.00</td>\n",
       "      <td>99.00</td>\n",
       "      <td>99.00</td>\n",
       "      <td>99.00</td>\n",
       "      <td>99.00</td>\n",
       "      <td>99.00</td>\n",
       "    </tr>\n",
       "    <tr>\n",
       "      <th>3</th>\n",
       "      <td>48</td>\n",
       "      <td>99.00</td>\n",
       "      <td>8.35</td>\n",
       "      <td>99.00</td>\n",
       "      <td>99.00</td>\n",
       "      <td>1.80</td>\n",
       "      <td>8.16</td>\n",
       "      <td>-2.82</td>\n",
       "      <td>6.21</td>\n",
       "      <td>99.00</td>\n",
       "      <td>...</td>\n",
       "      <td>99.00</td>\n",
       "      <td>99.00</td>\n",
       "      <td>99.00</td>\n",
       "      <td>0.53</td>\n",
       "      <td>99.00</td>\n",
       "      <td>99.00</td>\n",
       "      <td>99.00</td>\n",
       "      <td>99.00</td>\n",
       "      <td>99.00</td>\n",
       "      <td>99.00</td>\n",
       "    </tr>\n",
       "    <tr>\n",
       "      <th>4</th>\n",
       "      <td>91</td>\n",
       "      <td>8.50</td>\n",
       "      <td>4.61</td>\n",
       "      <td>-4.17</td>\n",
       "      <td>-5.39</td>\n",
       "      <td>1.36</td>\n",
       "      <td>1.60</td>\n",
       "      <td>7.04</td>\n",
       "      <td>4.61</td>\n",
       "      <td>-0.44</td>\n",
       "      <td>...</td>\n",
       "      <td>5.19</td>\n",
       "      <td>5.58</td>\n",
       "      <td>4.27</td>\n",
       "      <td>5.19</td>\n",
       "      <td>5.73</td>\n",
       "      <td>1.55</td>\n",
       "      <td>3.11</td>\n",
       "      <td>6.55</td>\n",
       "      <td>1.80</td>\n",
       "      <td>1.60</td>\n",
       "    </tr>\n",
       "  </tbody>\n",
       "</table>\n",
       "<p>5 rows × 101 columns</p>\n",
       "</div>"
      ],
      "text/plain": [
       "   0      1      2      3      4     5     6     7     8      9    ...    91   \\\n",
       "0   74  -7.82   8.79  -9.66  -8.16 -7.52 -8.50 -9.85  4.17  -8.98  ...   2.82   \n",
       "1  100   4.08  -0.29   6.36   4.37 -2.38 -9.66 -0.73 -5.34   8.88  ...   2.82   \n",
       "2   49  99.00  99.00  99.00  99.00  9.03  9.27  9.03  9.27  99.00  ...  99.00   \n",
       "3   48  99.00   8.35  99.00  99.00  1.80  8.16 -2.82  6.21  99.00  ...  99.00   \n",
       "4   91   8.50   4.61  -4.17  -5.39  1.36  1.60  7.04  4.61  -0.44  ...   5.19   \n",
       "\n",
       "     92     93     94     95     96     97     98     99     100  \n",
       "0  99.00  99.00  99.00  99.00  99.00  -5.63  99.00  99.00  99.00  \n",
       "1  -4.95  -0.29   7.86  -0.19  -2.14   3.06   0.34  -4.32   1.07  \n",
       "2  99.00  99.00   9.08  99.00  99.00  99.00  99.00  99.00  99.00  \n",
       "3  99.00  99.00   0.53  99.00  99.00  99.00  99.00  99.00  99.00  \n",
       "4   5.58   4.27   5.19   5.73   1.55   3.11   6.55   1.80   1.60  \n",
       "\n",
       "[5 rows x 101 columns]"
      ]
     },
     "execution_count": 6,
     "metadata": {},
     "output_type": "execute_result"
    }
   ],
   "source": [
    "import pandas as pd\n",
    "\n",
    "df = pd.read_excel(\"jester-data-1.xls\", header=None)\n",
    "df = pd.DataFrame(df)\n",
    "df.head()"
   ]
  },
  {
   "cell_type": "markdown",
   "id": "1bf4cc4f",
   "metadata": {},
   "source": [
    "First off, I built a pipeline to format the data into something more useable. I downloaded the Jester Dataset, loaded it into a Pandas DataFrame, set the indexes of rows and columns to start at 1, trimmed all irrelevant information so that I was left with only the user item ratings matrix. I also decided to reduce the amount of data I was working with. Initially I did this to save time while testing my code, but I ended up using only a very limited amount of the original data."
   ]
  },
  {
   "cell_type": "code",
   "execution_count": 7,
   "id": "7584b295",
   "metadata": {
    "scrolled": true
   },
   "outputs": [
    {
     "data": {
      "text/html": [
       "<div>\n",
       "<style scoped>\n",
       "    .dataframe tbody tr th:only-of-type {\n",
       "        vertical-align: middle;\n",
       "    }\n",
       "\n",
       "    .dataframe tbody tr th {\n",
       "        vertical-align: top;\n",
       "    }\n",
       "\n",
       "    .dataframe thead th {\n",
       "        text-align: right;\n",
       "    }\n",
       "</style>\n",
       "<table border=\"1\" class=\"dataframe\">\n",
       "  <thead>\n",
       "    <tr style=\"text-align: right;\">\n",
       "      <th></th>\n",
       "      <th>1</th>\n",
       "      <th>2</th>\n",
       "      <th>3</th>\n",
       "      <th>4</th>\n",
       "      <th>5</th>\n",
       "      <th>6</th>\n",
       "      <th>7</th>\n",
       "      <th>8</th>\n",
       "      <th>9</th>\n",
       "      <th>10</th>\n",
       "      <th>...</th>\n",
       "      <th>91</th>\n",
       "      <th>92</th>\n",
       "      <th>93</th>\n",
       "      <th>94</th>\n",
       "      <th>95</th>\n",
       "      <th>96</th>\n",
       "      <th>97</th>\n",
       "      <th>98</th>\n",
       "      <th>99</th>\n",
       "      <th>100</th>\n",
       "    </tr>\n",
       "  </thead>\n",
       "  <tbody>\n",
       "    <tr>\n",
       "      <th>1</th>\n",
       "      <td>-7.82</td>\n",
       "      <td>8.79</td>\n",
       "      <td>-9.66</td>\n",
       "      <td>-8.16</td>\n",
       "      <td>-7.52</td>\n",
       "      <td>-8.50</td>\n",
       "      <td>-9.85</td>\n",
       "      <td>4.17</td>\n",
       "      <td>-8.98</td>\n",
       "      <td>-4.76</td>\n",
       "      <td>...</td>\n",
       "      <td>2.82</td>\n",
       "      <td>99.00</td>\n",
       "      <td>99.00</td>\n",
       "      <td>99.00</td>\n",
       "      <td>99.00</td>\n",
       "      <td>99.00</td>\n",
       "      <td>-5.63</td>\n",
       "      <td>99.00</td>\n",
       "      <td>99.00</td>\n",
       "      <td>99.00</td>\n",
       "    </tr>\n",
       "    <tr>\n",
       "      <th>2</th>\n",
       "      <td>4.08</td>\n",
       "      <td>-0.29</td>\n",
       "      <td>6.36</td>\n",
       "      <td>4.37</td>\n",
       "      <td>-2.38</td>\n",
       "      <td>-9.66</td>\n",
       "      <td>-0.73</td>\n",
       "      <td>-5.34</td>\n",
       "      <td>8.88</td>\n",
       "      <td>9.22</td>\n",
       "      <td>...</td>\n",
       "      <td>2.82</td>\n",
       "      <td>-4.95</td>\n",
       "      <td>-0.29</td>\n",
       "      <td>7.86</td>\n",
       "      <td>-0.19</td>\n",
       "      <td>-2.14</td>\n",
       "      <td>3.06</td>\n",
       "      <td>0.34</td>\n",
       "      <td>-4.32</td>\n",
       "      <td>1.07</td>\n",
       "    </tr>\n",
       "    <tr>\n",
       "      <th>3</th>\n",
       "      <td>99.00</td>\n",
       "      <td>99.00</td>\n",
       "      <td>99.00</td>\n",
       "      <td>99.00</td>\n",
       "      <td>9.03</td>\n",
       "      <td>9.27</td>\n",
       "      <td>9.03</td>\n",
       "      <td>9.27</td>\n",
       "      <td>99.00</td>\n",
       "      <td>99.00</td>\n",
       "      <td>...</td>\n",
       "      <td>99.00</td>\n",
       "      <td>99.00</td>\n",
       "      <td>99.00</td>\n",
       "      <td>9.08</td>\n",
       "      <td>99.00</td>\n",
       "      <td>99.00</td>\n",
       "      <td>99.00</td>\n",
       "      <td>99.00</td>\n",
       "      <td>99.00</td>\n",
       "      <td>99.00</td>\n",
       "    </tr>\n",
       "    <tr>\n",
       "      <th>4</th>\n",
       "      <td>99.00</td>\n",
       "      <td>8.35</td>\n",
       "      <td>99.00</td>\n",
       "      <td>99.00</td>\n",
       "      <td>1.80</td>\n",
       "      <td>8.16</td>\n",
       "      <td>-2.82</td>\n",
       "      <td>6.21</td>\n",
       "      <td>99.00</td>\n",
       "      <td>1.84</td>\n",
       "      <td>...</td>\n",
       "      <td>99.00</td>\n",
       "      <td>99.00</td>\n",
       "      <td>99.00</td>\n",
       "      <td>0.53</td>\n",
       "      <td>99.00</td>\n",
       "      <td>99.00</td>\n",
       "      <td>99.00</td>\n",
       "      <td>99.00</td>\n",
       "      <td>99.00</td>\n",
       "      <td>99.00</td>\n",
       "    </tr>\n",
       "    <tr>\n",
       "      <th>5</th>\n",
       "      <td>8.50</td>\n",
       "      <td>4.61</td>\n",
       "      <td>-4.17</td>\n",
       "      <td>-5.39</td>\n",
       "      <td>1.36</td>\n",
       "      <td>1.60</td>\n",
       "      <td>7.04</td>\n",
       "      <td>4.61</td>\n",
       "      <td>-0.44</td>\n",
       "      <td>5.73</td>\n",
       "      <td>...</td>\n",
       "      <td>5.19</td>\n",
       "      <td>5.58</td>\n",
       "      <td>4.27</td>\n",
       "      <td>5.19</td>\n",
       "      <td>5.73</td>\n",
       "      <td>1.55</td>\n",
       "      <td>3.11</td>\n",
       "      <td>6.55</td>\n",
       "      <td>1.80</td>\n",
       "      <td>1.60</td>\n",
       "    </tr>\n",
       "    <tr>\n",
       "      <th>6</th>\n",
       "      <td>-6.17</td>\n",
       "      <td>-3.54</td>\n",
       "      <td>0.44</td>\n",
       "      <td>-8.50</td>\n",
       "      <td>-7.09</td>\n",
       "      <td>-4.32</td>\n",
       "      <td>-8.69</td>\n",
       "      <td>-0.87</td>\n",
       "      <td>-6.65</td>\n",
       "      <td>-1.80</td>\n",
       "      <td>...</td>\n",
       "      <td>-3.54</td>\n",
       "      <td>-6.89</td>\n",
       "      <td>-0.68</td>\n",
       "      <td>-2.96</td>\n",
       "      <td>-2.18</td>\n",
       "      <td>-3.35</td>\n",
       "      <td>0.05</td>\n",
       "      <td>-9.08</td>\n",
       "      <td>-5.05</td>\n",
       "      <td>-3.45</td>\n",
       "    </tr>\n",
       "    <tr>\n",
       "      <th>7</th>\n",
       "      <td>99.00</td>\n",
       "      <td>99.00</td>\n",
       "      <td>99.00</td>\n",
       "      <td>99.00</td>\n",
       "      <td>8.59</td>\n",
       "      <td>-9.85</td>\n",
       "      <td>7.72</td>\n",
       "      <td>8.79</td>\n",
       "      <td>99.00</td>\n",
       "      <td>99.00</td>\n",
       "      <td>...</td>\n",
       "      <td>99.00</td>\n",
       "      <td>99.00</td>\n",
       "      <td>99.00</td>\n",
       "      <td>99.00</td>\n",
       "      <td>99.00</td>\n",
       "      <td>2.33</td>\n",
       "      <td>99.00</td>\n",
       "      <td>99.00</td>\n",
       "      <td>99.00</td>\n",
       "      <td>99.00</td>\n",
       "    </tr>\n",
       "    <tr>\n",
       "      <th>8</th>\n",
       "      <td>6.84</td>\n",
       "      <td>3.16</td>\n",
       "      <td>9.17</td>\n",
       "      <td>-6.21</td>\n",
       "      <td>-8.16</td>\n",
       "      <td>-1.70</td>\n",
       "      <td>9.27</td>\n",
       "      <td>1.41</td>\n",
       "      <td>-5.19</td>\n",
       "      <td>-4.42</td>\n",
       "      <td>...</td>\n",
       "      <td>7.23</td>\n",
       "      <td>-1.12</td>\n",
       "      <td>-0.10</td>\n",
       "      <td>-5.68</td>\n",
       "      <td>-3.16</td>\n",
       "      <td>-3.35</td>\n",
       "      <td>2.14</td>\n",
       "      <td>-0.05</td>\n",
       "      <td>1.31</td>\n",
       "      <td>0.00</td>\n",
       "    </tr>\n",
       "    <tr>\n",
       "      <th>9</th>\n",
       "      <td>-3.79</td>\n",
       "      <td>-3.54</td>\n",
       "      <td>-9.42</td>\n",
       "      <td>-6.89</td>\n",
       "      <td>-8.74</td>\n",
       "      <td>-0.29</td>\n",
       "      <td>-5.29</td>\n",
       "      <td>-8.93</td>\n",
       "      <td>-7.86</td>\n",
       "      <td>-1.60</td>\n",
       "      <td>...</td>\n",
       "      <td>4.37</td>\n",
       "      <td>-0.29</td>\n",
       "      <td>4.17</td>\n",
       "      <td>-0.29</td>\n",
       "      <td>-0.29</td>\n",
       "      <td>-0.29</td>\n",
       "      <td>-0.29</td>\n",
       "      <td>-0.29</td>\n",
       "      <td>-3.40</td>\n",
       "      <td>-4.95</td>\n",
       "    </tr>\n",
       "    <tr>\n",
       "      <th>10</th>\n",
       "      <td>3.01</td>\n",
       "      <td>5.15</td>\n",
       "      <td>5.15</td>\n",
       "      <td>3.01</td>\n",
       "      <td>6.41</td>\n",
       "      <td>5.15</td>\n",
       "      <td>8.93</td>\n",
       "      <td>2.52</td>\n",
       "      <td>3.01</td>\n",
       "      <td>8.16</td>\n",
       "      <td>...</td>\n",
       "      <td>99.00</td>\n",
       "      <td>4.47</td>\n",
       "      <td>99.00</td>\n",
       "      <td>99.00</td>\n",
       "      <td>99.00</td>\n",
       "      <td>99.00</td>\n",
       "      <td>99.00</td>\n",
       "      <td>99.00</td>\n",
       "      <td>99.00</td>\n",
       "      <td>99.00</td>\n",
       "    </tr>\n",
       "  </tbody>\n",
       "</table>\n",
       "<p>10 rows × 100 columns</p>\n",
       "</div>"
      ],
      "text/plain": [
       "      1      2      3      4     5     6     7     8      9      10   ...  \\\n",
       "1   -7.82   8.79  -9.66  -8.16 -7.52 -8.50 -9.85  4.17  -8.98  -4.76  ...   \n",
       "2    4.08  -0.29   6.36   4.37 -2.38 -9.66 -0.73 -5.34   8.88   9.22  ...   \n",
       "3   99.00  99.00  99.00  99.00  9.03  9.27  9.03  9.27  99.00  99.00  ...   \n",
       "4   99.00   8.35  99.00  99.00  1.80  8.16 -2.82  6.21  99.00   1.84  ...   \n",
       "5    8.50   4.61  -4.17  -5.39  1.36  1.60  7.04  4.61  -0.44   5.73  ...   \n",
       "6   -6.17  -3.54   0.44  -8.50 -7.09 -4.32 -8.69 -0.87  -6.65  -1.80  ...   \n",
       "7   99.00  99.00  99.00  99.00  8.59 -9.85  7.72  8.79  99.00  99.00  ...   \n",
       "8    6.84   3.16   9.17  -6.21 -8.16 -1.70  9.27  1.41  -5.19  -4.42  ...   \n",
       "9   -3.79  -3.54  -9.42  -6.89 -8.74 -0.29 -5.29 -8.93  -7.86  -1.60  ...   \n",
       "10   3.01   5.15   5.15   3.01  6.41  5.15  8.93  2.52   3.01   8.16  ...   \n",
       "\n",
       "      91     92     93     94     95     96     97     98     99     100  \n",
       "1    2.82  99.00  99.00  99.00  99.00  99.00  -5.63  99.00  99.00  99.00  \n",
       "2    2.82  -4.95  -0.29   7.86  -0.19  -2.14   3.06   0.34  -4.32   1.07  \n",
       "3   99.00  99.00  99.00   9.08  99.00  99.00  99.00  99.00  99.00  99.00  \n",
       "4   99.00  99.00  99.00   0.53  99.00  99.00  99.00  99.00  99.00  99.00  \n",
       "5    5.19   5.58   4.27   5.19   5.73   1.55   3.11   6.55   1.80   1.60  \n",
       "6   -3.54  -6.89  -0.68  -2.96  -2.18  -3.35   0.05  -9.08  -5.05  -3.45  \n",
       "7   99.00  99.00  99.00  99.00  99.00   2.33  99.00  99.00  99.00  99.00  \n",
       "8    7.23  -1.12  -0.10  -5.68  -3.16  -3.35   2.14  -0.05   1.31   0.00  \n",
       "9    4.37  -0.29   4.17  -0.29  -0.29  -0.29  -0.29  -0.29  -3.40  -4.95  \n",
       "10  99.00   4.47  99.00  99.00  99.00  99.00  99.00  99.00  99.00  99.00  \n",
       "\n",
       "[10 rows x 100 columns]"
      ]
     },
     "execution_count": 7,
     "metadata": {},
     "output_type": "execute_result"
    }
   ],
   "source": [
    "import copy\n",
    "\n",
    "df.index+=1\n",
    "df.drop(df.columns[[0]], axis=1, inplace=True)\n",
    "\n",
    "#reducing the dataset to a more managable amount\n",
    "df = df.drop(df.index[1000:df.shape[0]])\n",
    "\n",
    "df_original = copy.deepcopy(df)\n",
    "df_original.head(10)\n"
   ]
  },
  {
   "cell_type": "markdown",
   "id": "b3ce23fa",
   "metadata": {},
   "source": [
    "Afterwards, I formatted the ratings into something useable for Surprise via the melt function, removed the latent ratings which had been set to \"99\" and loaded the dataset with rating scale from -10 to 10."
   ]
  },
  {
   "cell_type": "code",
   "execution_count": 8,
   "id": "7b899fe4",
   "metadata": {},
   "outputs": [
    {
     "data": {
      "text/html": [
       "<div>\n",
       "<style scoped>\n",
       "    .dataframe tbody tr th:only-of-type {\n",
       "        vertical-align: middle;\n",
       "    }\n",
       "\n",
       "    .dataframe tbody tr th {\n",
       "        vertical-align: top;\n",
       "    }\n",
       "\n",
       "    .dataframe thead th {\n",
       "        text-align: right;\n",
       "    }\n",
       "</style>\n",
       "<table border=\"1\" class=\"dataframe\">\n",
       "  <thead>\n",
       "    <tr style=\"text-align: right;\">\n",
       "      <th></th>\n",
       "      <th>User ID</th>\n",
       "      <th>Joke ID</th>\n",
       "      <th>Rating</th>\n",
       "    </tr>\n",
       "  </thead>\n",
       "  <tbody>\n",
       "    <tr>\n",
       "      <th>0</th>\n",
       "      <td>1</td>\n",
       "      <td>1</td>\n",
       "      <td>-7.82</td>\n",
       "    </tr>\n",
       "    <tr>\n",
       "      <th>1000</th>\n",
       "      <td>1</td>\n",
       "      <td>2</td>\n",
       "      <td>8.79</td>\n",
       "    </tr>\n",
       "    <tr>\n",
       "      <th>2000</th>\n",
       "      <td>1</td>\n",
       "      <td>3</td>\n",
       "      <td>-9.66</td>\n",
       "    </tr>\n",
       "    <tr>\n",
       "      <th>3000</th>\n",
       "      <td>1</td>\n",
       "      <td>4</td>\n",
       "      <td>-8.16</td>\n",
       "    </tr>\n",
       "    <tr>\n",
       "      <th>4000</th>\n",
       "      <td>1</td>\n",
       "      <td>5</td>\n",
       "      <td>-7.52</td>\n",
       "    </tr>\n",
       "  </tbody>\n",
       "</table>\n",
       "</div>"
      ],
      "text/plain": [
       "      User ID Joke ID  Rating\n",
       "0           1       1   -7.82\n",
       "1000        1       2    8.79\n",
       "2000        1       3   -9.66\n",
       "3000        1       4   -8.16\n",
       "4000        1       5   -7.52"
      ]
     },
     "execution_count": 8,
     "metadata": {},
     "output_type": "execute_result"
    }
   ],
   "source": [
    "from surprise import Dataset, Reader\n",
    "\n",
    "df.insert(loc=1, column=\"User ID\", value= range(1,len(df.index)+1))\n",
    "df = df.melt(id_vars=\"User ID\", var_name=\"Joke ID\", value_name='Rating')\n",
    "df = df[df[\"Rating\"] != 99.0]\n",
    "df = df.sort_values(by=['User ID', 'Joke ID'])\n",
    "df.head()"
   ]
  },
  {
   "cell_type": "code",
   "execution_count": 9,
   "id": "5f503f31",
   "metadata": {},
   "outputs": [],
   "source": [
    "reader = Reader(rating_scale=(-10, 10))\n",
    "data = Dataset.load_from_df(df[['User ID', 'Joke ID', 'Rating']], reader)"
   ]
  },
  {
   "cell_type": "markdown",
   "id": "4fc58c56",
   "metadata": {},
   "source": [
    "Secondly, I tested the KNNBasic algorithm from the \"Surprise\" package using some basic hyperparameters and cross validated the results on the Jester data set with 10 folds. Aftewards, I did the same for a row of other algorithms (BaselineOnly, KNNWithMeans, KNNBaseline) and compared the results."
   ]
  },
  {
   "cell_type": "code",
   "execution_count": 10,
   "id": "917c134c",
   "metadata": {},
   "outputs": [
    {
     "name": "stdout",
     "output_type": "stream",
     "text": [
      "Computing the cosine similarity matrix...\n",
      "Done computing similarity matrix.\n",
      "Computing the cosine similarity matrix...\n",
      "Done computing similarity matrix.\n",
      "Computing the cosine similarity matrix...\n",
      "Done computing similarity matrix.\n",
      "Computing the cosine similarity matrix...\n",
      "Done computing similarity matrix.\n",
      "Computing the cosine similarity matrix...\n",
      "Done computing similarity matrix.\n",
      "Computing the cosine similarity matrix...\n",
      "Done computing similarity matrix.\n",
      "Computing the cosine similarity matrix...\n",
      "Done computing similarity matrix.\n",
      "Computing the cosine similarity matrix...\n",
      "Done computing similarity matrix.\n",
      "Computing the cosine similarity matrix...\n",
      "Done computing similarity matrix.\n",
      "Computing the cosine similarity matrix...\n",
      "Done computing similarity matrix.\n",
      "Computing the cosine similarity matrix...\n",
      "Done computing similarity matrix.\n",
      "Evaluating RMSE, MAE of algorithm KNNBasic on 10 split(s).\n",
      "\n",
      "                  Fold 1  Fold 2  Fold 3  Fold 4  Fold 5  Fold 6  Fold 7  Fold 8  Fold 9  Fold 10 Mean    Std     \n",
      "RMSE (testset)    4.7727  4.6869  4.8005  4.7733  4.8222  4.9406  4.7881  4.8775  4.8171  4.7669  4.8046  0.0647  \n",
      "MAE (testset)     3.4862  3.4518  3.5317  3.5184  3.5459  3.6381  3.5395  3.6006  3.5440  3.5115  3.5368  0.0503  \n",
      "Fit time          0.12    0.12    0.12    0.12    0.12    0.12    0.12    0.12    0.12    0.12    0.12    0.00    \n",
      "Test time         0.39    0.37    0.36    0.36    0.37    0.35    0.35    0.55    0.34    0.35    0.38    0.06    \n"
     ]
    },
    {
     "data": {
      "text/plain": [
       "{'test_rmse': array([4.77267218, 4.68687983, 4.80045268, 4.77331162, 4.82224461,\n",
       "        4.94055907, 4.78813284, 4.87754181, 4.81714301, 4.76693388]),\n",
       " 'test_mae': array([3.4861743 , 3.45178316, 3.53171911, 3.51836513, 3.54591568,\n",
       "        3.63812827, 3.53948998, 3.60059039, 3.54400759, 3.51150298]),\n",
       " 'fit_time': (0.1157839298248291,\n",
       "  0.11770987510681152,\n",
       "  0.11944007873535156,\n",
       "  0.11764907836914062,\n",
       "  0.11933326721191406,\n",
       "  0.11585283279418945,\n",
       "  0.11606597900390625,\n",
       "  0.11570978164672852,\n",
       "  0.12270689010620117,\n",
       "  0.11600184440612793),\n",
       " 'test_time': (0.38517141342163086,\n",
       "  0.3712959289550781,\n",
       "  0.35927391052246094,\n",
       "  0.36061596870422363,\n",
       "  0.36705780029296875,\n",
       "  0.3479151725769043,\n",
       "  0.35404396057128906,\n",
       "  0.5532352924346924,\n",
       "  0.3435549736022949,\n",
       "  0.3451838493347168)}"
      ]
     },
     "execution_count": 10,
     "metadata": {},
     "output_type": "execute_result"
    }
   ],
   "source": [
    "from surprise import KNNBasic, BaselineOnly, KNNWithMeans, KNNBaseline\n",
    "from surprise.model_selection import cross_validate\n",
    "\n",
    "trainset = data.build_full_trainset()\n",
    "sim_options = {'name': 'cosine',\n",
    "               'user_based': False\n",
    "               }\n",
    "algo = KNNBasic(sim_options=sim_options, k=2)\n",
    "algo.fit(trainset)\n",
    "cross_validate(algo, data, measures=['RMSE', 'MAE'], cv=10, verbose=True)"
   ]
  },
  {
   "cell_type": "code",
   "execution_count": 11,
   "id": "03347d47",
   "metadata": {},
   "outputs": [
    {
     "name": "stdout",
     "output_type": "stream",
     "text": [
      "Estimating biases using als...\n",
      "Estimating biases using als...\n",
      "Estimating biases using als...\n",
      "Estimating biases using als...\n",
      "Estimating biases using als...\n",
      "Estimating biases using als...\n",
      "Estimating biases using als...\n",
      "Estimating biases using als...\n",
      "Estimating biases using als...\n",
      "Estimating biases using als...\n",
      "Estimating biases using als...\n",
      "Evaluating RMSE, MAE of algorithm BaselineOnly on 10 split(s).\n",
      "\n",
      "                  Fold 1  Fold 2  Fold 3  Fold 4  Fold 5  Fold 6  Fold 7  Fold 8  Fold 9  Fold 10 Mean    Std     \n",
      "RMSE (testset)    4.3594  4.4134  4.3869  4.3570  4.3602  4.3370  4.3591  4.3594  4.3769  4.3377  4.3647  0.0216  \n",
      "MAE (testset)     3.5021  3.5546  3.5160  3.4912  3.5122  3.4754  3.4812  3.5201  3.4880  3.4686  3.5009  0.0244  \n",
      "Fit time          0.16    0.15    0.16    0.16    0.19    0.15    0.17    0.17    0.17    0.16    0.16    0.01    \n",
      "Test time         0.03    0.03    0.03    0.03    0.11    0.03    0.03    0.03    0.03    0.03    0.04    0.03    \n"
     ]
    },
    {
     "data": {
      "text/plain": [
       "{'test_rmse': array([4.35937896, 4.41341676, 4.38688787, 4.35697472, 4.36021742,\n",
       "        4.33697662, 4.35911727, 4.35940368, 4.37685875, 4.33769529]),\n",
       " 'test_mae': array([3.50210396, 3.55455719, 3.51598763, 3.49124981, 3.51215918,\n",
       "        3.47535988, 3.48120131, 3.52006948, 3.48803092, 3.46860788]),\n",
       " 'fit_time': (0.15657806396484375,\n",
       "  0.15082812309265137,\n",
       "  0.16451573371887207,\n",
       "  0.16340398788452148,\n",
       "  0.1867358684539795,\n",
       "  0.15021491050720215,\n",
       "  0.16599297523498535,\n",
       "  0.16540813446044922,\n",
       "  0.16689419746398926,\n",
       "  0.16442203521728516),\n",
       " 'test_time': (0.026630163192749023,\n",
       "  0.025989294052124023,\n",
       "  0.026321887969970703,\n",
       "  0.02794194221496582,\n",
       "  0.11301207542419434,\n",
       "  0.02609109878540039,\n",
       "  0.02582097053527832,\n",
       "  0.02631402015686035,\n",
       "  0.027698993682861328,\n",
       "  0.026736974716186523)}"
      ]
     },
     "execution_count": 11,
     "metadata": {},
     "output_type": "execute_result"
    }
   ],
   "source": [
    "trainset = data.build_full_trainset()\n",
    "algo = BaselineOnly()\n",
    "algo.fit(trainset)\n",
    "cross_validate(algo, data, measures=['RMSE', 'MAE'], cv=10, verbose=True)"
   ]
  },
  {
   "cell_type": "code",
   "execution_count": 12,
   "id": "68dd09c5",
   "metadata": {},
   "outputs": [
    {
     "name": "stdout",
     "output_type": "stream",
     "text": [
      "Computing the msd similarity matrix...\n",
      "Done computing similarity matrix.\n",
      "Computing the msd similarity matrix...\n",
      "Done computing similarity matrix.\n",
      "Computing the msd similarity matrix...\n",
      "Done computing similarity matrix.\n",
      "Computing the msd similarity matrix...\n",
      "Done computing similarity matrix.\n",
      "Computing the msd similarity matrix...\n",
      "Done computing similarity matrix.\n",
      "Computing the msd similarity matrix...\n",
      "Done computing similarity matrix.\n",
      "Computing the msd similarity matrix...\n",
      "Done computing similarity matrix.\n",
      "Computing the msd similarity matrix...\n",
      "Done computing similarity matrix.\n",
      "Computing the msd similarity matrix...\n",
      "Done computing similarity matrix.\n",
      "Computing the msd similarity matrix...\n",
      "Done computing similarity matrix.\n",
      "Computing the msd similarity matrix...\n",
      "Done computing similarity matrix.\n",
      "Evaluating RMSE, MAE of algorithm KNNWithMeans on 10 split(s).\n",
      "\n",
      "                  Fold 1  Fold 2  Fold 3  Fold 4  Fold 5  Fold 6  Fold 7  Fold 8  Fold 9  Fold 10 Mean    Std     \n",
      "RMSE (testset)    4.2706  4.2806  4.2735  4.2297  4.3010  4.2761  4.3039  4.2742  4.2324  4.2447  4.2687  0.0244  \n",
      "MAE (testset)     3.3975  3.3991  3.4022  3.3794  3.4297  3.4015  3.4364  3.4059  3.3594  3.3864  3.3998  0.0212  \n",
      "Fit time          1.67    1.81    1.86    1.69    2.05    2.09    1.63    1.65    1.63    1.62    1.77    0.17    \n",
      "Test time         4.10    4.21    4.20    4.73    5.07    3.95    3.76    3.76    3.77    3.77    4.13    0.43    \n"
     ]
    },
    {
     "data": {
      "text/plain": [
       "{'test_rmse': array([4.27059315, 4.28058296, 4.27347696, 4.22972957, 4.30102335,\n",
       "        4.27608178, 4.30392071, 4.27422116, 4.23238717, 4.24474527]),\n",
       " 'test_mae': array([3.3975111 , 3.39907051, 3.40224108, 3.37938771, 3.42973207,\n",
       "        3.40148588, 3.43635387, 3.40590544, 3.35939298, 3.38644701]),\n",
       " 'fit_time': (1.6668710708618164,\n",
       "  1.8101310729980469,\n",
       "  1.8550362586975098,\n",
       "  1.6865410804748535,\n",
       "  2.0466270446777344,\n",
       "  2.0939321517944336,\n",
       "  1.6346440315246582,\n",
       "  1.6464409828186035,\n",
       "  1.6270651817321777,\n",
       "  1.6231989860534668),\n",
       " 'test_time': (4.095531940460205,\n",
       "  4.212285995483398,\n",
       "  4.196300745010376,\n",
       "  4.7318830490112305,\n",
       "  5.067424058914185,\n",
       "  3.9548559188842773,\n",
       "  3.7573509216308594,\n",
       "  3.7579550743103027,\n",
       "  3.7683799266815186,\n",
       "  3.7733099460601807)}"
      ]
     },
     "execution_count": 12,
     "metadata": {},
     "output_type": "execute_result"
    }
   ],
   "source": [
    "trainset = data.build_full_trainset()\n",
    "algo = KNNWithMeans()\n",
    "algo.fit(trainset)\n",
    "cross_validate(algo, data, measures=['RMSE', 'MAE'], cv=10, verbose=True)"
   ]
  },
  {
   "cell_type": "code",
   "execution_count": 13,
   "id": "b1ad3e57",
   "metadata": {},
   "outputs": [
    {
     "name": "stdout",
     "output_type": "stream",
     "text": [
      "Estimating biases using als...\n",
      "Computing the msd similarity matrix...\n",
      "Done computing similarity matrix.\n",
      "Estimating biases using als...\n",
      "Computing the msd similarity matrix...\n",
      "Done computing similarity matrix.\n",
      "Estimating biases using als...\n",
      "Computing the msd similarity matrix...\n",
      "Done computing similarity matrix.\n",
      "Estimating biases using als...\n",
      "Computing the msd similarity matrix...\n",
      "Done computing similarity matrix.\n",
      "Estimating biases using als...\n",
      "Computing the msd similarity matrix...\n",
      "Done computing similarity matrix.\n",
      "Estimating biases using als...\n",
      "Computing the msd similarity matrix...\n",
      "Done computing similarity matrix.\n",
      "Estimating biases using als...\n",
      "Computing the msd similarity matrix...\n",
      "Done computing similarity matrix.\n",
      "Estimating biases using als...\n",
      "Computing the msd similarity matrix...\n",
      "Done computing similarity matrix.\n",
      "Estimating biases using als...\n",
      "Computing the msd similarity matrix...\n",
      "Done computing similarity matrix.\n",
      "Estimating biases using als...\n",
      "Computing the msd similarity matrix...\n",
      "Done computing similarity matrix.\n",
      "Estimating biases using als...\n",
      "Computing the msd similarity matrix...\n",
      "Done computing similarity matrix.\n",
      "Evaluating RMSE, MAE of algorithm KNNBaseline on 10 split(s).\n",
      "\n",
      "                  Fold 1  Fold 2  Fold 3  Fold 4  Fold 5  Fold 6  Fold 7  Fold 8  Fold 9  Fold 10 Mean    Std     \n",
      "RMSE (testset)    4.2619  4.2587  4.2489  4.2474  4.2291  4.2721  4.2503  4.2376  4.3307  4.1761  4.2513  0.0364  \n",
      "MAE (testset)     3.4148  3.4008  3.3789  3.3814  3.3529  3.3900  3.3849  3.3674  3.4306  3.3115  3.3813  0.0315  \n",
      "Fit time          1.74    1.77    2.16    1.76    1.82    1.75    1.75    1.74    1.75    1.77    1.80    0.12    \n",
      "Test time         4.73    4.37    4.75    4.30    3.95    3.92    3.92    3.93    3.99    3.92    4.18    0.32    \n"
     ]
    },
    {
     "data": {
      "text/plain": [
       "{'test_rmse': array([4.26191988, 4.25865579, 4.24888677, 4.24736206, 4.22909283,\n",
       "        4.2721381 , 4.25031903, 4.23764763, 4.33074113, 4.17613445]),\n",
       " 'test_mae': array([3.41482144, 3.40077581, 3.37889695, 3.38142585, 3.35288176,\n",
       "        3.38996284, 3.38493131, 3.36736528, 3.43057439, 3.31152914]),\n",
       " 'fit_time': (1.7422358989715576,\n",
       "  1.767307996749878,\n",
       "  2.1568381786346436,\n",
       "  1.7583730220794678,\n",
       "  1.8225679397583008,\n",
       "  1.7504000663757324,\n",
       "  1.7488560676574707,\n",
       "  1.7415530681610107,\n",
       "  1.7503328323364258,\n",
       "  1.7693729400634766),\n",
       " 'test_time': (4.734467029571533,\n",
       "  4.3709800243377686,\n",
       "  4.746397972106934,\n",
       "  4.2961578369140625,\n",
       "  3.9467170238494873,\n",
       "  3.9174001216888428,\n",
       "  3.923715829849243,\n",
       "  3.9344279766082764,\n",
       "  3.9872870445251465,\n",
       "  3.922631025314331)}"
      ]
     },
     "execution_count": 13,
     "metadata": {},
     "output_type": "execute_result"
    }
   ],
   "source": [
    "trainset = data.build_full_trainset()\n",
    "algo = KNNBaseline()\n",
    "algo.fit(trainset)\n",
    "cross_validate(algo, data, measures=['RMSE', 'MAE'], cv=10, verbose=True)"
   ]
  },
  {
   "cell_type": "markdown",
   "id": "6f9301b6",
   "metadata": {},
   "source": [
    "Thirdly, I used the SVD and CoClustering algorithms and cross validated again. I decided to finetune these two algorithms hyperparamters as they were giving me good initial results. I used the GridSearch function and plugged in several possible hyperparameters including but not limited to number of clusters per item/user, number of epochs and learning rate. GridSearch then recommended the hyperparameters with the most accurate results. "
   ]
  },
  {
   "cell_type": "code",
   "execution_count": 14,
   "id": "610191e3",
   "metadata": {},
   "outputs": [
    {
     "name": "stdout",
     "output_type": "stream",
     "text": [
      "4.29850268884474\n",
      "{'n_cltr_u': 3, 'n_cltr_i': 7, 'n_epochs': 30}\n",
      "Evaluating RMSE, MAE of algorithm CoClustering on 10 split(s).\n",
      "\n",
      "                  Fold 1  Fold 2  Fold 3  Fold 4  Fold 5  Fold 6  Fold 7  Fold 8  Fold 9  Fold 10 Mean    Std     \n",
      "RMSE (testset)    4.3074  4.3564  4.3042  4.2810  4.3280  4.3328  4.3171  4.2434  4.2674  4.2803  4.3018  0.0322  \n",
      "MAE (testset)     3.4283  3.4677  3.4216  3.4060  3.4399  3.4577  3.4271  3.3629  3.3773  3.4058  3.4194  0.0311  \n",
      "Fit time          2.74    2.93    2.90    2.26    2.24    2.21    2.21    2.20    2.20    2.21    2.41    0.30    \n",
      "Test time         0.04    0.04    0.03    0.09    0.03    0.03    0.03    0.03    0.03    0.03    0.04    0.02    \n"
     ]
    },
    {
     "data": {
      "text/plain": [
       "{'test_rmse': array([4.30743949, 4.35643828, 4.30415169, 4.28097605, 4.32800298,\n",
       "        4.33283248, 4.3170679 , 4.24339851, 4.26736202, 4.28026983]),\n",
       " 'test_mae': array([3.42827709, 3.46771206, 3.4215617 , 3.40603393, 3.43994881,\n",
       "        3.45771261, 3.42712733, 3.36294358, 3.37728189, 3.40581188]),\n",
       " 'fit_time': (2.738109827041626,\n",
       "  2.930408000946045,\n",
       "  2.896474838256836,\n",
       "  2.2599430084228516,\n",
       "  2.2408833503723145,\n",
       "  2.2144277095794678,\n",
       "  2.2131459712982178,\n",
       "  2.198125123977661,\n",
       "  2.1978671550750732,\n",
       "  2.207042694091797),\n",
       " 'test_time': (0.041815996170043945,\n",
       "  0.04148125648498535,\n",
       "  0.030310869216918945,\n",
       "  0.08971118927001953,\n",
       "  0.029116153717041016,\n",
       "  0.029048919677734375,\n",
       "  0.029588937759399414,\n",
       "  0.029009103775024414,\n",
       "  0.029526948928833008,\n",
       "  0.029246091842651367)}"
      ]
     },
     "execution_count": 14,
     "metadata": {},
     "output_type": "execute_result"
    }
   ],
   "source": [
    "from surprise import CoClustering\n",
    "from surprise.model_selection import GridSearchCV\n",
    "\n",
    "param_grid = {'n_cltr_u': [3,5,7], 'n_cltr_i': [3,5,7], 'n_epochs': [5, 10, 20, 30]}\n",
    "gs = GridSearchCV(CoClustering, param_grid, measures=['rmse', 'mae'], cv=10)\n",
    "gs.fit(data)\n",
    "print(gs.best_score[\"rmse\"])\n",
    "print(gs.best_params[\"rmse\"])\n",
    "algo = gs.best_estimator['rmse']\n",
    "cross_validate(algo, data, measures=['RMSE', 'MAE'], cv=10, verbose=True)"
   ]
  },
  {
   "cell_type": "code",
   "execution_count": 15,
   "id": "028e2375",
   "metadata": {},
   "outputs": [
    {
     "name": "stdout",
     "output_type": "stream",
     "text": [
      "4.116656182761882\n",
      "{'n_epochs': 20, 'lr_all': 0.001}\n",
      "Evaluating RMSE, MAE of algorithm SVD on 10 split(s).\n",
      "\n",
      "                  Fold 1  Fold 2  Fold 3  Fold 4  Fold 5  Fold 6  Fold 7  Fold 8  Fold 9  Fold 10 Mean    Std     \n",
      "RMSE (testset)    4.0799  4.0758  4.0744  4.1304  4.1338  4.1154  4.0948  4.1704  4.0975  4.1828  4.1155  0.0366  \n",
      "MAE (testset)     3.2073  3.1868  3.1789  3.2265  3.2153  3.2331  3.1976  3.2497  3.1767  3.2680  3.2140  0.0290  \n",
      "Fit time          4.38    5.20    4.28    4.63    4.51    4.63    4.25    4.06    4.42    6.98    4.73    0.80    \n",
      "Test time         0.08    0.05    0.05    0.05    0.04    0.05    0.04    0.04    0.05    0.06    0.05    0.01    \n"
     ]
    },
    {
     "data": {
      "text/plain": [
       "{'test_rmse': array([4.07992283, 4.07584282, 4.07444115, 4.13040595, 4.13384305,\n",
       "        4.11538316, 4.09479402, 4.17038209, 4.09749196, 4.18278782]),\n",
       " 'test_mae': array([3.20729241, 3.18677376, 3.17887703, 3.2264932 , 3.21527004,\n",
       "        3.23312528, 3.19758522, 3.24972154, 3.17667016, 3.26795026]),\n",
       " 'fit_time': (4.379618167877197,\n",
       "  5.2047247886657715,\n",
       "  4.279184818267822,\n",
       "  4.632666110992432,\n",
       "  4.5108747482299805,\n",
       "  4.631516933441162,\n",
       "  4.254560947418213,\n",
       "  4.062072038650513,\n",
       "  4.416054010391235,\n",
       "  6.9783570766448975),\n",
       " 'test_time': (0.07578802108764648,\n",
       "  0.049576759338378906,\n",
       "  0.04973483085632324,\n",
       "  0.05411195755004883,\n",
       "  0.04413580894470215,\n",
       "  0.05255317687988281,\n",
       "  0.04287004470825195,\n",
       "  0.04327201843261719,\n",
       "  0.04559898376464844,\n",
       "  0.05598187446594238)}"
      ]
     },
     "execution_count": 15,
     "metadata": {},
     "output_type": "execute_result"
    }
   ],
   "source": [
    "from surprise import SVD\n",
    "\n",
    "param_grid = {'n_epochs': [5, 10, 20, 30], 'lr_all': [.0025, .005, .001, .01, 0.05]}\n",
    "gs = GridSearchCV(SVD, param_grid, measures=['rmse', 'mae'], cv=10)\n",
    "gs.fit(data)\n",
    "print(gs.best_score[\"rmse\"])\n",
    "print(gs.best_params[\"rmse\"])\n",
    "algo = gs.best_estimator['rmse']\n",
    "cross_validate(algo, data, measures=['RMSE', 'MAE'], cv=10, verbose=True)\n"
   ]
  },
  {
   "cell_type": "markdown",
   "id": "b377bff0",
   "metadata": {},
   "source": [
    "Fourthly, and after deciding to use the SVD algorithm to predict the latent scores I was missing, I used the hyperparameters suggested by GridSearch, split the data into a training and test sets, fit the algorithm to the training set, predicted ratings and received RMSE accuracy scores from the test set. "
   ]
  },
  {
   "cell_type": "code",
   "execution_count": 16,
   "id": "88648e65",
   "metadata": {},
   "outputs": [
    {
     "name": "stdout",
     "output_type": "stream",
     "text": [
      "RMSE: 4.1617\n",
      "       userID  jokeID   rui       est\n",
      "0         826      16 -1.31 -2.407020\n",
      "1         411      54  2.57  3.114270\n",
      "2         911      53  0.73  1.418093\n",
      "3         429       8  0.63  0.139804\n",
      "4         853      33  6.99 -0.369478\n",
      "...       ...     ...   ...       ...\n",
      "14130     824      15  5.68  1.985805\n",
      "14131     789      39 -0.53  2.887012\n",
      "14132     701      23  7.57  1.587354\n",
      "14133     160      16  6.70  0.758047\n",
      "14134     940      86  3.83  3.120421\n",
      "\n",
      "[14135 rows x 4 columns]\n"
     ]
    }
   ],
   "source": [
    "from surprise import accuracy\n",
    "from surprise.model_selection import train_test_split\n",
    "\n",
    "trainset, testset = train_test_split(data, test_size=0.2)\n",
    "predictions = algo.fit(trainset).test(testset)\n",
    "accuracy.rmse(predictions)\n",
    "predictions_df_SVD = pd.DataFrame(predictions, columns=['userID', 'jokeID', 'rui', 'est', 'details'])\n",
    "print(predictions_df_SVD[['userID', 'jokeID', 'rui', 'est']])"
   ]
  },
  {
   "cell_type": "markdown",
   "id": "af3f38d1",
   "metadata": {},
   "source": [
    "I also filled the latent matrix with all the missing scores predicted by the tuned SVD algorithm."
   ]
  },
  {
   "cell_type": "code",
   "execution_count": 17,
   "id": "998dda76",
   "metadata": {},
   "outputs": [
    {
     "name": "stdout",
     "output_type": "stream",
     "text": [
      "       1     2     3     4     5     6     7     8     9     10   ...   91   \\\n",
      "1    -7.82  8.79 -9.66 -8.16 -7.52 -8.50 -9.85  4.17 -8.98 -4.76  ...  2.82   \n",
      "2     4.08 -0.29  6.36  4.37 -2.38 -9.66 -0.73 -5.34  8.88  9.22  ...  2.82   \n",
      "3     6.53  5.74  7.63  3.29  9.03  9.27  9.03  9.27  5.20  8.04  ...  5.38   \n",
      "4    -0.77  8.35  0.97  0.68  1.80  8.16 -2.82  6.21 -0.16  1.84  ...  1.67   \n",
      "5     8.50  4.61 -4.17 -5.39  1.36  1.60  7.04  4.61 -0.44  5.73  ...  5.19   \n",
      "...    ...   ...   ...   ...   ...   ...   ...   ...   ...   ...  ...   ...   \n",
      "996   1.94 -5.53  5.19 -5.49 -4.08 -2.52  3.20  3.83 -6.02  2.96  ... -4.42   \n",
      "997   4.27  0.39  5.39 -5.63 -3.59  5.58  1.17 -8.16 -5.87 -6.70  ...  1.35   \n",
      "998   5.58  5.63  4.85 -3.11  3.40 -1.26  3.54  2.14 -4.66  0.78  ...  1.35   \n",
      "999  -7.33 -6.55 -7.33 -7.33 -1.60 -3.35 -7.14 -6.60 -7.33 -6.07  ... -7.18   \n",
      "1000 -1.12  0.73 -1.84 -1.50  2.52  1.07  3.50  0.97  2.28  0.68  ...  2.76   \n",
      "\n",
      "       92    93    94    95    96    97    98    99    100  \n",
      "1    -3.84 -0.46 -3.44 -3.75 -4.07 -5.63 -1.76 -3.48 -1.35  \n",
      "2    -4.95 -0.29  7.86 -0.19 -2.14  3.06  0.34 -4.32  1.07  \n",
      "3     5.10  7.27  9.08  5.21  5.56  5.07  4.67  3.76  5.46  \n",
      "4     2.45  2.90  0.53  1.53  2.07  1.05  2.31  0.41  3.57  \n",
      "5     5.58  4.27  5.19  5.73  1.55  3.11  6.55  1.80  1.60  \n",
      "...    ...   ...   ...   ...   ...   ...   ...   ...   ...  \n",
      "996  -1.07  4.37 -3.11  2.72 -4.13  2.23 -5.53  3.54  2.38  \n",
      "997   1.09  2.72  0.00 -4.42  0.68  1.08  1.21 -0.95  2.75  \n",
      "998   0.20  1.60  0.93 -0.27 -0.17  1.12 -0.35 -0.18  0.79  \n",
      "999  -4.13 -4.13 -7.23 -7.23 -7.23 -7.23 -7.23 -7.23 -7.72  \n",
      "1000  1.45  3.07  1.98  1.12  2.72  3.26  0.57  2.08  1.48  \n",
      "\n",
      "[1000 rows x 100 columns]\n"
     ]
    }
   ],
   "source": [
    "def fill_pred_matrix(df, algo):\n",
    "    for row in range(1, df.shape[0]+1):\n",
    "        for column in range(1, df.shape[1]+1):\n",
    "            if df.loc[row][column] == 99:\n",
    "                pred = algo.predict(row, column, verbose=False)\n",
    "                df.loc[row][column] = round(pred.est,2)\n",
    "    return df\n",
    "\n",
    "print(fill_pred_matrix(copy.deepcopy(df_original), algo))"
   ]
  },
  {
   "cell_type": "markdown",
   "id": "2fbb94a3",
   "metadata": {},
   "source": [
    "Finally, I calculated the best and worst predictions (least/most amount of error between prediction and actual rating) made by the algorithm and found the user who was predicted to give the highest amount of overall scores (Mr./Mrs./Ms. Giggles) as well as the user predicted to give the lowest amount of overall scores (Mr./Mrs./Ms. FrownyFace). Most importantly I calculated which joke was predicted to have been the funniest and the least funny, had all users rated all jokes. And so, I am one step closer to finding the funniest joke in the world."
   ]
  },
  {
   "cell_type": "code",
   "execution_count": 18,
   "id": "47b7b9fe",
   "metadata": {},
   "outputs": [
    {
     "name": "stdout",
     "output_type": "stream",
     "text": [
      "Best Predictions SVD: \n",
      "       userID  jokeID   rui       est     error\n",
      "7750      356      59  2.43  2.430405  0.000405\n",
      "6378      322      73  4.08  4.080701  0.000701\n",
      "9587      457      59 -2.33 -2.329127  0.000873\n",
      "9528      462      53  2.62  2.619125  0.000875\n",
      "11720     389       4  2.33  2.330919  0.000919\n",
      "8121      208      37  3.11  3.111063  0.001063\n",
      "10890     715       7  0.53  0.531165  0.001165\n",
      "5916      223       1  1.41  1.408666  0.001334\n",
      "2186      203      61  2.52  2.518431  0.001569\n",
      "7290      329       5  3.06  3.061650  0.001650\n"
     ]
    }
   ],
   "source": [
    "predictions_df_SVD['error'] = abs(predictions_df_SVD.est - predictions_df_SVD.rui)\n",
    "\n",
    "best_predictions = predictions_df_SVD.sort_values(by='error')[:10]\n",
    "print(\"Best Predictions SVD: \")\n",
    "print(best_predictions[['userID', 'jokeID', 'rui', 'est', 'error']])\n"
   ]
  },
  {
   "cell_type": "code",
   "execution_count": 19,
   "id": "47d8121d",
   "metadata": {},
   "outputs": [
    {
     "name": "stdout",
     "output_type": "stream",
     "text": [
      "Worst Predictions SVD: \n",
      "       userID  jokeID   rui       est      error\n",
      "10348     986      41 -9.47  5.689997  15.159997\n",
      "7573      593      56 -9.90  5.850416  15.750416\n",
      "3852      210      38 -7.23  8.695350  15.925350\n",
      "7156        5      32 -9.47  6.772304  16.242304\n",
      "6561      691      53 -8.74  7.734933  16.474933\n",
      "4067      407      97 -8.54  7.979980  16.519980\n",
      "14016     986      89 -9.76  7.659538  17.419538\n",
      "13650     407      47 -9.47  8.133979  17.603979\n",
      "13082     463      32 -9.22  8.865513  18.085513\n",
      "12692     639      27 -9.90  8.355171  18.255171\n"
     ]
    }
   ],
   "source": [
    "worst_predictions = predictions_df_SVD.sort_values(by='error')[-10:]\n",
    "print(\"Worst Predictions SVD: \")\n",
    "print(worst_predictions[['userID', 'jokeID', 'rui', 'est', 'error']])"
   ]
  },
  {
   "cell_type": "code",
   "execution_count": 20,
   "id": "fc56fc0b",
   "metadata": {},
   "outputs": [
    {
     "name": "stdout",
     "output_type": "stream",
     "text": [
      "Average rating for the funniest joke (Nr. 89): 4.03785\n",
      "Average rating for the unfunniest joke (Nr. 58): -3.7161099999999996\n"
     ]
    }
   ],
   "source": [
    "pred_matrix_SVD = fill_pred_matrix(copy.deepcopy(df_original), algo)\n",
    "\n",
    "column_sums = pred_matrix_SVD.sum(axis=0)\n",
    "column_sums = pd.DataFrame(column_sums).iloc[:, 0]\n",
    "print(\"Average rating for the funniest joke (Nr. \" +str(column_sums.idxmax())+ \"): \" +str(column_sums.max()/1000))\n",
    "print(\"Average rating for the unfunniest joke (Nr. \" +str(column_sums.idxmin())+ \"): \"+str(column_sums.min()/1000))"
   ]
  },
  {
   "cell_type": "code",
   "execution_count": 21,
   "id": "b489e3ee",
   "metadata": {},
   "outputs": [
    {
     "name": "stdout",
     "output_type": "stream",
     "text": [
      "User 616 is Mr./Mrs./Ms. Giggles with an average rating of: 7.557699999999998\n",
      "User 673 is Mr./Mrs./Ms. Frownyface with an average rating of: -6.341\n"
     ]
    }
   ],
   "source": [
    "row_sums = pred_matrix_SVD.sum(axis=1)\n",
    "row_sums = pd.DataFrame(row_sums).iloc[:, 0]\n",
    "print(\"User \" +str(row_sums.idxmax())+ \" is Mr./Mrs./Ms. Giggles with an average rating of: \" +str(row_sums.max()/100))\n",
    "print(\"User \" +str(row_sums.idxmin())+ \" is Mr./Mrs./Ms. Frownyface with an average rating of: \" +str(row_sums.min()/100))"
   ]
  },
  {
   "cell_type": "markdown",
   "id": "c50fb63e",
   "metadata": {},
   "source": [
    "For comparison, I did the same with the KNNBasic algorithm."
   ]
  },
  {
   "cell_type": "code",
   "execution_count": 22,
   "id": "fb052b52",
   "metadata": {},
   "outputs": [
    {
     "name": "stdout",
     "output_type": "stream",
     "text": [
      "Computing the cosine similarity matrix...\n",
      "Done computing similarity matrix.\n",
      "RMSE: 4.7553\n",
      "       userID  jokeID   rui       est\n",
      "0         158      45 -3.74 -3.750000\n",
      "1         473      29  5.34  5.096125\n",
      "2         856      26  4.76  4.669918\n",
      "3         842      18  2.43  1.045787\n",
      "4         939      84  0.63 -0.249993\n",
      "...       ...     ...   ...       ...\n",
      "14130     388      35  8.98  7.990305\n",
      "14131     112      37 -0.87  6.156183\n",
      "14132     527       2  9.08  7.733649\n",
      "14133     429       4 -0.10  0.265535\n",
      "14134     678      11  2.72 -1.085688\n",
      "\n",
      "[14135 rows x 4 columns]\n",
      "       1     2     3     4     5     6     7     8     9     10   ...   91   \\\n",
      "1    -7.82  8.79 -9.66 -8.16 -7.52 -8.50 -9.85  4.17 -8.98 -4.76  ...  2.82   \n",
      "2     4.08 -0.29  6.36  4.37 -2.38 -9.66 -0.73 -5.34  8.88  9.22  ...  2.82   \n",
      "3     7.25  7.35  7.43  7.70  9.03  9.27  9.03  9.27  8.76  8.34  ...  7.28   \n",
      "4    -3.14  8.35  7.02  7.53  1.80  8.16 -2.82  6.21 -0.85  1.84  ... -0.80   \n",
      "5     8.50  4.61 -4.17 -5.39  1.36  1.60  7.04  4.61 -0.44  5.73  ...  5.19   \n",
      "...    ...   ...   ...   ...   ...   ...   ...   ...   ...   ...  ...   ...   \n",
      "996   1.94 -5.53  5.19 -5.49 -4.08 -2.52  3.20  3.83 -6.02  2.96  ... -4.42   \n",
      "997   4.27  0.39  5.39 -5.63 -3.59  5.58  1.17 -8.16 -5.87 -6.70  ...  4.20   \n",
      "998   5.58  5.63  4.85 -3.11  3.40 -1.26  3.54  2.14 -4.66  0.78  ...  2.89   \n",
      "999  -7.33 -6.55 -7.33 -7.33 -1.60 -3.35 -7.14 -6.60 -7.33 -6.07  ... -7.18   \n",
      "1000 -1.12  0.73 -1.84 -1.50  2.52  1.07  3.50  0.97  2.28  0.68  ...  4.76   \n",
      "\n",
      "       92    93    94    95    96    97    98    99    100  \n",
      "1    -7.09  1.87 -4.66 -6.04 -0.66 -5.63 -3.48 -8.05 -0.48  \n",
      "2    -4.95 -0.29  7.86 -0.19 -2.14  3.06  0.34 -4.32  1.07  \n",
      "3     9.06  8.14  9.08  8.59  9.11  7.30  8.22  9.05  7.28  \n",
      "4     7.37  2.13  0.53  3.98  2.83 -1.59  4.97  1.21  6.81  \n",
      "5     5.58  4.27  5.19  5.73  1.55  3.11  6.55  1.80  1.60  \n",
      "...    ...   ...   ...   ...   ...   ...   ...   ...   ...  \n",
      "996  -1.07  4.37 -3.11  2.72 -4.13  2.23 -5.53  3.54  2.38  \n",
      "997   4.88 -1.54 -4.66 -4.42  2.22  2.53  3.76 -5.67 -0.27  \n",
      "998   0.90  2.64  1.56 -0.21  2.10  3.04 -2.41 -0.36 -0.67  \n",
      "999  -4.13 -4.13 -7.23 -7.23 -7.23 -7.23 -7.23 -7.23 -7.72  \n",
      "1000  0.04  5.50  3.75  1.12  2.72  3.91  3.00  1.83  2.72  \n",
      "\n",
      "[1000 rows x 100 columns]\n"
     ]
    }
   ],
   "source": [
    "sim_options = {'name': 'cosine',\n",
    "               'user_based': False\n",
    "               }\n",
    "algo = KNNBasic(sim_options=sim_options, k=2)\n",
    "trainset, testset = train_test_split(data, test_size=0.2)\n",
    "predictions = algo.fit(trainset).test(testset)\n",
    "accuracy.rmse(predictions)\n",
    "predictions_df_KNNBasic = pd.DataFrame(predictions, columns=['userID', 'jokeID', 'rui', 'est', 'details'])\n",
    "print(predictions_df_KNNBasic[['userID', 'jokeID', 'rui', 'est']])\n",
    "print(fill_pred_matrix(copy.deepcopy(df_original), algo))\n"
   ]
  },
  {
   "cell_type": "code",
   "execution_count": 23,
   "id": "f02c9149",
   "metadata": {},
   "outputs": [
    {
     "name": "stdout",
     "output_type": "stream",
     "text": [
      "       userID  jokeID   rui   est  error\n",
      "10137     136      78  8.83  8.83    0.0\n",
      "9433      436      10 -0.29 -0.29    0.0\n",
      "10496     606      16 -6.21 -6.21    0.0\n",
      "5892      616      98  9.03  9.03    0.0\n",
      "5905      439      35  6.17  6.17    0.0\n",
      "2021      864      55 -9.37 -9.37    0.0\n",
      "8423      797      77  7.57  7.57    0.0\n",
      "8506        3      53  7.28  7.28    0.0\n",
      "10567     292      79  4.27  4.27    0.0\n",
      "3903       65      70 -0.29 -0.29    0.0\n"
     ]
    }
   ],
   "source": [
    "predictions_df_KNNBasic['error'] = abs(predictions_df_KNNBasic.est - predictions_df_KNNBasic.rui)\n",
    "\n",
    "best_predictions = predictions_df_KNNBasic.sort_values(by='error')[:10]\n",
    "print(best_predictions[['userID', 'jokeID', 'rui', 'est', 'error']])"
   ]
  },
  {
   "cell_type": "code",
   "execution_count": 24,
   "id": "085c6fff",
   "metadata": {},
   "outputs": [
    {
     "name": "stdout",
     "output_type": "stream",
     "text": [
      "Worst Predictions KNNBasic: \n",
      "       userID  jokeID   rui       est      error\n",
      "3713      536      35 -9.32  8.740000  18.060000\n",
      "13557     293      54 -9.51  8.571301  18.081301\n",
      "10905     308      20 -9.81  8.311276  18.121276\n",
      "1940      350      25 -9.37  8.785746  18.155746\n",
      "7485      226      19  9.03 -9.300579  18.330579\n",
      "2896      593      29 -9.61  8.835826  18.445826\n",
      "9829      683      39  8.74 -9.710000  18.450000\n",
      "3168      154      90 -9.76  8.857622  18.617622\n",
      "13159      74       5 -9.32  9.322178  18.642178\n",
      "12790     504      62 -9.71  8.954892  18.664892\n"
     ]
    }
   ],
   "source": [
    "worst_predictions = predictions_df_KNNBasic.sort_values(by='error')[-10:]\n",
    "print(\"Worst Predictions KNNBasic: \")\n",
    "print(worst_predictions[['userID', 'jokeID', 'rui', 'est', 'error']])"
   ]
  },
  {
   "cell_type": "code",
   "execution_count": 25,
   "id": "a7c9cd0b",
   "metadata": {},
   "outputs": [
    {
     "name": "stdout",
     "output_type": "stream",
     "text": [
      "Average rating for the funniest joke (Nr. 50): 3.9547299999999996\n",
      "Average rating for the unfunniest joke (Nr. 16): -2.93321\n"
     ]
    }
   ],
   "source": [
    "pred_matrix_KNNBasic = fill_pred_matrix(copy.deepcopy(df_original), algo)\n",
    "column_sums = pred_matrix_KNNBasic.sum(axis=0)\n",
    "column_sums = pd.DataFrame(column_sums).iloc[:, 0]\n",
    "print(\"Average rating for the funniest joke (Nr. \" +str(column_sums.idxmax())+ \"): \" +str(column_sums.max()/1000))\n",
    "print(\"Average rating for the unfunniest joke (Nr. \" +str(column_sums.idxmin())+ \"): \"+str(column_sums.min()/1000))"
   ]
  },
  {
   "cell_type": "code",
   "execution_count": 26,
   "id": "245a40c6",
   "metadata": {},
   "outputs": [
    {
     "name": "stdout",
     "output_type": "stream",
     "text": [
      "User 468 is Mr./Mrs./Ms. Giggles with an average rating of: 7.701099999999996\n",
      "User 183 is Mr./Mrs./Ms. Frownyface with an average rating of: -6.973500000000001\n"
     ]
    }
   ],
   "source": [
    "row_sums = pred_matrix_KNNBasic.sum(axis=1)\n",
    "row_sums = pd.DataFrame(row_sums).iloc[:, 0]\n",
    "print(\"User \" +str(row_sums.idxmax())+ \" is Mr./Mrs./Ms. Giggles with an average rating of: \" +str(row_sums.max()/100))\n",
    "print(\"User \" +str(row_sums.idxmin())+ \" is Mr./Mrs./Ms. Frownyface with an average rating of: \" +str(row_sums.min()/100))"
   ]
  },
  {
   "cell_type": "markdown",
   "id": "b7601fb0",
   "metadata": {},
   "source": [
    "Considering that I really only used a fraction of the available data, I think that the finetuned SVD algorithm generally gives a good impression of what may have been scored by particular users. It isn't extremely accurate, but more of a ballpark figure which tends to predict correctly if something would have been negatively or positively rated. "
   ]
  },
  {
   "cell_type": "markdown",
   "id": "d3aab2ec",
   "metadata": {},
   "source": [
    "Generally speaking, I was very happy with the best prediction results. Jokes were being rated on a scale from -10 to 10 and the best predictions for SVD had an error far below 0.01 (for 100x1000 matrix). Unfortunately, the worst predictions were extremely far off the mark (up to 17.5). In contrast, the KNNBasicm algorithm (k = 2) had a far lower margin of error for the best predictions but an even higher error for the worst predictions, over 19, which seems incredibly high considering the rating scale only has a range of 20. In general, I assume that the SVD algorithm gives more reliable predictions than the KNNBasic algorithm, especially if it has been finetuned and the sparsity in the dataset is higher. In this case the unrated cells accounted for ca. 30% of the dataset. \n"
   ]
  },
  {
   "cell_type": "markdown",
   "id": "dc34f965",
   "metadata": {},
   "source": [
    "Something that surprised me was that the error rate seems to grow exponentially. I am still unsure how to explain this. I was expecting something more linear, although I have no way to explain why I had this expectation. \n",
    "\n",
    "I was also surprised by the fact, that both algorithms predicted user 32's behaviour extremely similarly as one can see in the visualization \"Prediction User 32 SVD/KNNBasic\".\n",
    "\n"
   ]
  },
  {
   "cell_type": "markdown",
   "id": "9f007771",
   "metadata": {},
   "source": [
    "__Visualizations__\n",
    "\n",
    "I visualized the development of the prediction errors for the SVD and KNNBasic algorithms from best to worst."
   ]
  },
  {
   "cell_type": "code",
   "execution_count": 27,
   "id": "ff306648",
   "metadata": {},
   "outputs": [
    {
     "data": {
      "image/png": "[encoded data removed]",
      "text/plain": [
       "<Figure size 432x288 with 1 Axes>"
      ]
     },
     "metadata": {
      "needs_background": "light"
     },
     "output_type": "display_data"
    }
   ],
   "source": [
    "import matplotlib.pyplot as plt\n",
    "\n",
    "x = list(range(0,len(predictions_df_SVD)))\n",
    "y = sorted(predictions_df_SVD[['error']]['error'].tolist())\n",
    "plt.plot(x, y)\n",
    "plt.xlabel('predictions')\n",
    "plt.ylabel('error')\n",
    "plt.title('Prediction Error SVD')\n",
    "plt.show(\"svg\")"
   ]
  },
  {
   "cell_type": "code",
   "execution_count": 28,
   "id": "314d7ab9",
   "metadata": {},
   "outputs": [
    {
     "data": {
      "image/png": "[encoded data removed]",
      "text/plain": [
       "<Figure size 432x288 with 1 Axes>"
      ]
     },
     "metadata": {
      "needs_background": "light"
     },
     "output_type": "display_data"
    }
   ],
   "source": [
    "x = list(range(0,len(predictions_df_KNNBasic)))\n",
    "y = sorted(predictions_df_KNNBasic[['error']]['error'].tolist())\n",
    "plt.plot(x, y)\n",
    "plt.xlabel('predictions')\n",
    "plt.ylabel('error')\n",
    "plt.title('Prediction Error KNNBasic')\n",
    "plt.show(\"svg\")"
   ]
  },
  {
   "cell_type": "code",
   "execution_count": 29,
   "id": "1fd1172a",
   "metadata": {},
   "outputs": [
    {
     "data": {
      "image/png": "[encoded data removed]",
      "text/plain": [
       "<Figure size 432x288 with 1 Axes>"
      ]
     },
     "metadata": {
      "needs_background": "light"
     },
     "output_type": "display_data"
    }
   ],
   "source": [
    "x1 = list(range(0,len(predictions_df_SVD)))\n",
    "x2 = list(range(0,len(predictions_df_KNNBasic)))\n",
    "y = sorted(predictions_df_KNNBasic[['error']]['error'].tolist())\n",
    "plt.plot(x1, y, label = \"SVD\")\n",
    "plt.plot(x2, y, label = \"KNNBasic\")\n",
    "plt.xlabel('predictions')\n",
    "plt.ylabel('error')\n",
    "plt.title('Prediction Error KNNBasic/SVD')\n",
    "plt.legend()\n",
    "plt.show(\"svg\")"
   ]
  },
  {
   "cell_type": "markdown",
   "id": "88ec37da",
   "metadata": {},
   "source": [
    "I also decided to visualize the ratings of users 29 and 32 who had both scored a total of 54 jokes each. As one can see, user 32 was far more extreme in his/her judgement, especially negatively. Both users did not rate a large amount of jokes between 50 and 100. The visualization shows how the algorithm predicted very different behaviours for these users."
   ]
  },
  {
   "cell_type": "code",
   "execution_count": 30,
   "id": "6ba93b05",
   "metadata": {},
   "outputs": [
    {
     "data": {
      "image/png": "[encoded data removed]",
      "text/plain": [
       "<Figure size 432x288 with 1 Axes>"
      ]
     },
     "metadata": {
      "needs_background": "light"
     },
     "output_type": "display_data"
    }
   ],
   "source": [
    "x = list(range(1,101))\n",
    "y1 = pred_matrix_SVD.iloc[29]\n",
    "y2 = pred_matrix_SVD.iloc[32]\n",
    "plt.xlabel('jokes')\n",
    "plt.ylabel('predictions')\n",
    "plt.title('Prediction Users 29&32 SVD')\n",
    "plt.plot(x, y1, label = \"User 29\")\n",
    "plt.plot(x, y2, label = \"User 32\")\n",
    "plt.legend()\n",
    "plt.show(\"svg\")"
   ]
  },
  {
   "cell_type": "code",
   "execution_count": 31,
   "id": "0b0b5bde",
   "metadata": {
    "scrolled": true
   },
   "outputs": [
    {
     "data": {
      "image/png": "[encoded data removed]",
      "text/plain": [
       "<Figure size 432x288 with 1 Axes>"
      ]
     },
     "metadata": {
      "needs_background": "light"
     },
     "output_type": "display_data"
    }
   ],
   "source": [
    "x = list(range(1,101))\n",
    "y1 = pred_matrix_KNNBasic.iloc[29]\n",
    "y2 = pred_matrix_KNNBasic.iloc[32]\n",
    "plt.xlabel('jokes')\n",
    "plt.ylabel('predictions')\n",
    "plt.title('Prediction Users 29&32 KNNBasic')\n",
    "plt.plot(x, y1, label = \"User 29\")\n",
    "plt.plot(x, y2, label = \"User 32\")\n",
    "plt.legend()\n",
    "plt.show(\"svg\")"
   ]
  },
  {
   "cell_type": "markdown",
   "id": "8af65b56",
   "metadata": {},
   "source": [
    "I then compared the user 29's and 32's ratings by SVD and KNNBasic."
   ]
  },
  {
   "cell_type": "code",
   "execution_count": 32,
   "id": "6c75b4d7",
   "metadata": {},
   "outputs": [
    {
     "data": {
      "image/png": "[encoded data removed]",
      "text/plain": [
       "<Figure size 432x288 with 1 Axes>"
      ]
     },
     "metadata": {
      "needs_background": "light"
     },
     "output_type": "display_data"
    }
   ],
   "source": [
    "x = list(range(1,101))\n",
    "y1 = pred_matrix_SVD.iloc[29]\n",
    "y2 = pred_matrix_KNNBasic.iloc[29]\n",
    "plt.xlabel('jokes')\n",
    "plt.ylabel('predictions')\n",
    "plt.title('Prediction User 29 SVD/KNNBasic')\n",
    "plt.plot(x, y1, label = \"SVD\")\n",
    "plt.plot(x, y2, label = \"KNNBasic\")\n",
    "plt.legend()\n",
    "plt.show(\"svg\")"
   ]
  },
  {
   "cell_type": "code",
   "execution_count": 33,
   "id": "dbe84cb6",
   "metadata": {},
   "outputs": [
    {
     "data": {
      "image/png": "[encoded data removed]",
      "text/plain": [
       "<Figure size 432x288 with 1 Axes>"
      ]
     },
     "metadata": {
      "needs_background": "light"
     },
     "output_type": "display_data"
    }
   ],
   "source": [
    "x = list(range(1,101))\n",
    "y1 = pred_matrix_SVD.iloc[32]\n",
    "y2 = pred_matrix_KNNBasic.iloc[32]\n",
    "plt.xlabel('jokes')\n",
    "plt.ylabel('predictions')\n",
    "plt.title('Prediction User 32 SVD/KNNBasic')\n",
    "plt.plot(x, y1, label = \"SVD\")\n",
    "plt.plot(x, y2, label = \"KNNBasic\")\n",
    "plt.legend()\n",
    "plt.show(\"svg\")"
   ]
  },
  {
   "cell_type": "code",
   "execution_count": null,
   "id": "93ec0625",
   "metadata": {},
   "outputs": [],
   "source": []
  }
 ],
 "metadata": {
  "kernelspec": {
   "display_name": "Python 3 (ipykernel)",
   "language": "python",
   "name": "python3"
  },
  "language_info": {
   "codemirror_mode": {
    "name": "ipython",
    "version": 3
   },
   "file_extension": ".py",
   "mimetype": "text/x-python",
   "name": "python",
   "nbconvert_exporter": "python",
   "pygments_lexer": "ipython3",
   "version": "3.9.7"
  },
  "toc": {
   "base_numbering": 1,
   "nav_menu": {},
   "number_sections": true,
   "sideBar": true,
   "skip_h1_title": false,
   "title_cell": "Table of Contents",
   "title_sidebar": "Contents",
   "toc_cell": false,
   "toc_position": {},
   "toc_section_display": true,
   "toc_window_display": false
  }
 },
 "nbformat": 4,
 "nbformat_minor": 5
}
